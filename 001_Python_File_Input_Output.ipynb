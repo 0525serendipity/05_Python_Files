{
 "cells": [
  {
   "cell_type": "markdown",
   "metadata": {},
   "source": [
    "<small><small><i>\n",
    "All the IPython Notebooks in this lecture series by Dr. Milan Parmar are available @ **[GitHub](https://github.com/milaan9/05_Python_Files)**\n",
    "</i></small></small>"
   ]
  },
  {
   "cell_type": "markdown",
   "metadata": {},
   "source": [
    "# Python File I/O\n",
    "\n",
    "In this class, you'll learn about Python file operations. More specifically, opening a file, reading from it, writing into it, closing it, and various file methods that you should be aware of."
   ]
  },
  {
   "cell_type": "markdown",
   "metadata": {},
   "source": [
    "## Files\n",
    "\n",
    "Files are named locations on disk to store related information. They are used to permanently store data in a non-volatile memory (e.g. hard disk).\n",
    "\n",
    "Since Random Access Memory (RAM) is volatile (which loses its data when the computer is turned off), we use files for future use of the data by permanently storing them.\n",
    "\n",
    "When we want to read from or write to a file, we need to open it first. When we are done, it needs to be closed so that the resources that are tied with the file are freed.\n",
    "\n",
    "Hence, in Python, a file operation takes place in the following order:\n",
    "<b>\n",
    "1. Open a file\n",
    "2. Close the file\n",
    "3. Read or write (perform operation)\n",
    "</b>"
   ]
  },
  {
   "cell_type": "markdown",
   "metadata": {},
   "source": [
    "## 1. Opening Files in Python\n",
    "\n",
    "Python has a built-in **`open()`** function to open a file. This function returns a file object, also called a handle, as it is used to read or modify the file accordingly.\n",
    "\n",
    "```python\n",
    ">>>f = open(\"test.txt\")  # open file in current directory\n",
    ">>>f = open(\"C:/Python99/README.txt\")   # specifying full path\n",
    "```\n",
    "\n",
    "We can specify the mode while opening a file. In mode, we specify whether we want to read **`r`**, write **`w`** or append **`a`** to the file. We can also specify if we want to open the file in text mode or binary mode.\n",
    "\n",
    "The default is reading in text mode. In this mode, we get strings when reading from the file.\n",
    "\n",
    "On the other hand, binary mode returns bytes and this is the mode to be used when dealing with non-text files like images or executable files.\n",
    "\n",
    "| Mode | Description |\n",
    "|:----| :--- |\n",
    "| **`r`** |   Opens a file for reading only. The file pointer is placed at the beginning of the file. This is the default mode.   | \n",
    "| **`t`** |   Opens in text mode. (default).   | \n",
    "| **`b`** |   Opens in binary mode.   | \n",
    "| **`x`** |   Opens a file for exclusive creation. If the file already exists, the operation fails.   | \n",
    "| **`rb`** |   Opens a file for reading only in binary format. The file pointer is placed at the beginning of the file. This is the default mode.   | \n",
    "| **`r+`** |   Opens a file for both reading and writing. The file pointer placed at the beginning of the file.   | \n",
    "| **`rb+`** |   Opens a file for both reading and writing in binary format. The file pointer placed at the beginning of the file.   |  \n",
    "| **`w`** |   Opens a file for writing only. Overwrites the file if the file exists. If the file does not exist, creates a new file for writing.   | \n",
    "| **`wb`** |   Opens a file for writing only in binary format. Overwrites the file if the file exists. If the file does not exist, creates a new file for writing.   | \n",
    "| **`w+`** |   Opens a file for both writing and reading. Overwrites the existing file if the file exists. If the file does not exist, creates a new file for reading and writing.   | \n",
    "| **`wb+`** |   Opens a file for both writing and reading in binary format. Overwrites the existing file if the file exists. If the file does not exist, creates a new file for reading and writing.   | \n",
    "| **`a`** |   Opens a file for appending. The file pointer is at the end of the file if the file exists. That is, the file is in the append mode. If the file does not exist, it creates a new file for writing.   | \n",
    "| **`ab`** |   Opens a file for appending in binary format. The file pointer is at the end of the file if the file exists. That is, the file is in the append mode. If the file does not exist, it creates a new file for writing.   | \n",
    "| **`a+`** |   Opens a file for both appending and reading. The file pointer is at the end of the file if the file exists. The file opens in the append mode. If the file does not exist, it creates a new file for reading and writing.   |\n",
    "| **`ab+`** |   Opens a file for both appending and reading in binary format. The file pointer is at the end of the file if the file exists. The file opens in the append mode. If the file does not exist, it creates a new file for reading and writing.   |  "
   ]
  },
  {
   "cell_type": "code",
   "execution_count": 1,
   "metadata": {
    "ExecuteTime": {
     "end_time": "2021-06-18T14:47:13.207909Z",
     "start_time": "2021-06-18T14:47:13.196192Z"
    }
   },
   "outputs": [],
   "source": [
    "f = open(\"test.txt\")      # equivalent to 'r' or 'rt'"
   ]
  },
  {
   "cell_type": "code",
   "execution_count": 2,
   "metadata": {
    "ExecuteTime": {
     "end_time": "2021-06-18T14:47:13.751849Z",
     "start_time": "2021-06-18T14:47:13.734274Z"
    }
   },
   "outputs": [],
   "source": [
    "f = open(\"test.txt\",'w')  # write in text mode"
   ]
  },
  {
   "cell_type": "code",
   "execution_count": 3,
   "metadata": {
    "ExecuteTime": {
     "end_time": "2021-06-18T14:47:15.077037Z",
     "start_time": "2021-06-18T14:47:15.070201Z"
    }
   },
   "outputs": [],
   "source": [
    "f = open(\"logo.png\",'w')  # read and write in binary mode"
   ]
  },
  {
   "cell_type": "markdown",
   "metadata": {},
   "source": [
    "Unlike other languages, the character **`a`** does not imply the number 97 until it is encoded using **`ASCII`** (or other equivalent encodings).\n",
    "\n",
    "Moreover, the default encoding is platform dependent. In windows, it is **`cp1252`** but **`utf-8`** in Linux.\n",
    "\n",
    "So, we must not also rely on the default encoding or else our code will behave differently in different platforms.\n",
    "\n",
    "Hence, when working with files in text mode, it is highly recommended to specify the encoding type."
   ]
  },
  {
   "cell_type": "code",
   "execution_count": 4,
   "metadata": {
    "ExecuteTime": {
     "end_time": "2021-06-18T14:47:16.166867Z",
     "start_time": "2021-06-18T14:47:16.150270Z"
    }
   },
   "outputs": [],
   "source": [
    "f = open(\"test.txt\", mode='r', encoding='utf-8')"
   ]
  },
  {
   "cell_type": "markdown",
   "metadata": {},
   "source": [
    "## 2. Closing Files in Python\n",
    "\n",
    "When we are done with performing operations on the file, we need to properly close the file.\n",
    "\n",
    "Closing a file will free up the resources that were tied with the file. It is done using the **`close()`** method available in Python.\n",
    "\n",
    "Python has a garbage collector to clean up unreferenced objects but we must not rely on it to close the file."
   ]
  },
  {
   "cell_type": "code",
   "execution_count": 5,
   "metadata": {
    "ExecuteTime": {
     "end_time": "2021-06-18T14:47:17.164908Z",
     "start_time": "2021-06-18T14:47:17.151238Z"
    }
   },
   "outputs": [],
   "source": [
    "f = open(\"test.txt\", encoding = 'utf-8')\n",
    "# perform file operations\n",
    "f.close()"
   ]
  },
  {
   "cell_type": "markdown",
   "metadata": {},
   "source": [
    "This method is not entirely safe. If an exception occurs when we are performing some operation with the file, the code exits without closing the file.\n",
    "\n",
    "A safer way is to use a **[try-finally]()** block."
   ]
  },
  {
   "cell_type": "code",
   "execution_count": 6,
   "metadata": {
    "ExecuteTime": {
     "end_time": "2021-06-18T14:47:18.116071Z",
     "start_time": "2021-06-18T14:47:18.102404Z"
    }
   },
   "outputs": [],
   "source": [
    "try:\n",
    "    f = open(\"test.txt\", encoding = 'utf-8')\n",
    "    # perform file operations\n",
    "finally:\n",
    "    f.close()"
   ]
  },
  {
   "cell_type": "markdown",
   "metadata": {},
   "source": [
    "This way, we are guaranteeing that the file is properly closed even if an exception is raised that causes program flow to stop.\n",
    "\n",
    "The best way to close a file is by using the **`with`** statement. This ensures that the file is closed when the block inside the **`with`** statement is exited.\n",
    "\n",
    "We don't need to explicitly call the **`close()`** method. It is done internally.\n",
    "\n",
    "```python\n",
    ">>>with open(\"test.txt\", encoding = 'utf-8') as f:\n",
    "   # perform file operations\n",
    "```"
   ]
  },
  {
   "cell_type": "markdown",
   "metadata": {},
   "source": [
    "### The file Object Attributes\n",
    "\n",
    "* **file.closed** - Returns true if file is closed, false otherwise.\n",
    "* **file.mode** - Returns access mode with which file was opened.\n",
    "* **file.name** - Returns name of the file."
   ]
  },
  {
   "cell_type": "code",
   "execution_count": 7,
   "metadata": {
    "ExecuteTime": {
     "end_time": "2021-06-18T14:47:19.764498Z",
     "start_time": "2021-06-18T14:47:19.743015Z"
    }
   },
   "outputs": [
    {
     "name": "stdout",
     "output_type": "stream",
     "text": [
      "Name of the file:  data.txt\n",
      "Closed or not :  False\n",
      "Opening mode :  wb\n"
     ]
    }
   ],
   "source": [
    "# Open a file\n",
    "data = open(\"data.txt\", \"wb\")\n",
    "print (\"Name of the file: \", data.name)\n",
    "print (\"Closed or not : \", data.closed)\n",
    "print (\"Opening mode : \", data.mode)\n",
    "data.close()  #closed data.txt file"
   ]
  },
  {
   "cell_type": "markdown",
   "metadata": {},
   "source": [
    "## 3. Writing to Files in Python\n",
    "\n",
    "In order to write into a file in Python, we need to open it in write **`w`**, append **`a`** or exclusive creation **`x`** mode.\n",
    "\n",
    "We need to be careful with the **`w`** mode, as it will overwrite into the file if it already exists. Due to this, all the previous data are erased.\n",
    "\n",
    "Writing a string or sequence of bytes (for binary files) is done using the **`write()`** method. This method returns the number of characters written to the file."
   ]
  },
  {
   "cell_type": "code",
   "execution_count": 8,
   "metadata": {
    "ExecuteTime": {
     "end_time": "2021-06-18T14:47:20.746421Z",
     "start_time": "2021-06-18T14:47:20.726897Z"
    }
   },
   "outputs": [],
   "source": [
    "with open(\"test_1.txt\",'w',encoding = 'utf-8') as f:\n",
    "    f.write(\"my first file\\n\")\n",
    "    f.write(\"This file\\n\\n\")\n",
    "    f.write(\"contains three lines\\n\")"
   ]
  },
  {
   "cell_type": "markdown",
   "metadata": {},
   "source": [
    "This program will create a new file named **`test_1.txt`** in the current directory if it does not exist. If it does exist, it is overwritten.\n",
    "\n",
    "We must include the newline characters ourselves to distinguish the different lines."
   ]
  },
  {
   "cell_type": "code",
   "execution_count": 9,
   "metadata": {
    "ExecuteTime": {
     "end_time": "2021-06-18T14:47:21.713702Z",
     "start_time": "2021-06-18T14:47:21.694175Z"
    }
   },
   "outputs": [],
   "source": [
    "with open(\"test_2.txt\",'w',encoding = 'utf-8') as f:\n",
    "    f.write(\"This is file\\n\")\n",
    "    f.write(\"my\\n\")\n",
    "    f.write(\"first file\\n\")"
   ]
  },
  {
   "cell_type": "code",
   "execution_count": 10,
   "metadata": {
    "ExecuteTime": {
     "end_time": "2021-06-18T14:47:22.197098Z",
     "start_time": "2021-06-18T14:47:22.177570Z"
    }
   },
   "outputs": [
    {
     "name": "stdout",
     "output_type": "stream",
     "text": [
      "done\n"
     ]
    }
   ],
   "source": [
    "# open a file in current directory\n",
    "data = open(\"data_1.txt\", \"w\") # \"w\" write in text mode,\n",
    "data.write(\"Welcome to Dr. Milan Parmar's Python Tutorial\")\n",
    "print(\"done\")\n",
    "data.close()"
   ]
  },
  {
   "cell_type": "markdown",
   "metadata": {},
   "source": [
    "<div>\n",
    "<img src=\"img/io1.png\" width=\"1000\"/>\n",
    "</div>"
   ]
  },
  {
   "cell_type": "markdown",
   "metadata": {},
   "source": [
    "## 4. Reading Files in Python\n",
    "\n",
    "To read a file in Python, we must open the file in reading **`r`** mode.\n",
    "\n",
    "There are various methods available for this purpose. We can use the **`read(size)`** method to read in the **`size`** number of data. If the **`size`** parameter is not specified, it reads and returns up to the end of the file.\n",
    "\n",
    "We can read the **`text_1.txt`** file we wrote in the above section in the following way:"
   ]
  },
  {
   "cell_type": "code",
   "execution_count": 11,
   "metadata": {
    "ExecuteTime": {
     "end_time": "2021-06-18T14:47:23.602360Z",
     "start_time": "2021-06-18T14:47:23.575018Z"
    }
   },
   "outputs": [
    {
     "data": {
      "text/plain": [
       "'my first'"
      ]
     },
     "execution_count": 11,
     "metadata": {},
     "output_type": "execute_result"
    }
   ],
   "source": [
    "f = open(\"test_1.txt\",'r',encoding = 'utf-8')\n",
    "f.read(8)  # read the first 8 data characters"
   ]
  },
  {
   "cell_type": "code",
   "execution_count": 12,
   "metadata": {
    "ExecuteTime": {
     "end_time": "2021-06-18T14:47:24.269347Z",
     "start_time": "2021-06-18T14:47:24.262513Z"
    }
   },
   "outputs": [
    {
     "data": {
      "text/plain": [
       "' file'"
      ]
     },
     "execution_count": 12,
     "metadata": {},
     "output_type": "execute_result"
    }
   ],
   "source": [
    "f.read(5)  # read the next 5 data characters"
   ]
  },
  {
   "cell_type": "code",
   "execution_count": 13,
   "metadata": {
    "ExecuteTime": {
     "end_time": "2021-06-18T14:47:24.736139Z",
     "start_time": "2021-06-18T14:47:24.719541Z"
    }
   },
   "outputs": [
    {
     "data": {
      "text/plain": [
       "'\\nThis file\\n\\ncontains three lines\\n'"
      ]
     },
     "execution_count": 13,
     "metadata": {},
     "output_type": "execute_result"
    }
   ],
   "source": [
    "f.read()  # read in the rest till end of file"
   ]
  },
  {
   "cell_type": "code",
   "execution_count": 14,
   "metadata": {
    "ExecuteTime": {
     "end_time": "2021-06-18T14:47:25.219536Z",
     "start_time": "2021-06-18T14:47:25.211724Z"
    }
   },
   "outputs": [
    {
     "data": {
      "text/plain": [
       "''"
      ]
     },
     "execution_count": 14,
     "metadata": {},
     "output_type": "execute_result"
    }
   ],
   "source": [
    "f.read()  # further reading returns empty sting"
   ]
  },
  {
   "cell_type": "markdown",
   "metadata": {},
   "source": [
    "We can see that the **`read()`** method returns a newline as **`'\\n'`**. Once the end of the file is reached, we get an empty string on further reading.\n",
    "\n",
    "We can change our current file cursor (position) using the **`seek()`** method. Similarly, the **`tell()`** method returns our current position (in number of bytes)."
   ]
  },
  {
   "cell_type": "code",
   "execution_count": 15,
   "metadata": {
    "ExecuteTime": {
     "end_time": "2021-06-18T14:47:25.936814Z",
     "start_time": "2021-06-18T14:47:25.918261Z"
    }
   },
   "outputs": [
    {
     "data": {
      "text/plain": [
       "50"
      ]
     },
     "execution_count": 15,
     "metadata": {},
     "output_type": "execute_result"
    }
   ],
   "source": [
    "f.tell()    # get the current file position"
   ]
  },
  {
   "cell_type": "code",
   "execution_count": 16,
   "metadata": {
    "ExecuteTime": {
     "end_time": "2021-06-18T14:47:26.451456Z",
     "start_time": "2021-06-18T14:47:26.433883Z"
    }
   },
   "outputs": [
    {
     "data": {
      "text/plain": [
       "0"
      ]
     },
     "execution_count": 16,
     "metadata": {},
     "output_type": "execute_result"
    }
   ],
   "source": [
    "f.seek(0)   # bring file cursor to initial position"
   ]
  },
  {
   "cell_type": "code",
   "execution_count": 17,
   "metadata": {
    "ExecuteTime": {
     "end_time": "2021-06-18T14:47:26.825969Z",
     "start_time": "2021-06-18T14:47:26.816206Z"
    },
    "scrolled": true
   },
   "outputs": [
    {
     "name": "stdout",
     "output_type": "stream",
     "text": [
      "my first file\n",
      "This file\n",
      "\n",
      "contains three lines\n",
      "\n"
     ]
    }
   ],
   "source": [
    "print(f.read())  # read the entire file"
   ]
  },
  {
   "cell_type": "markdown",
   "metadata": {},
   "source": [
    "We can read a file line-by-line using a **[for loop](https://github.com/milaan9/03_Python_Flow_Control/blob/main/005_Python_for_Loop.ipynb)**. This is both efficient and fast."
   ]
  },
  {
   "cell_type": "code",
   "execution_count": 18,
   "metadata": {
    "ExecuteTime": {
     "end_time": "2021-06-18T14:47:27.808382Z",
     "start_time": "2021-06-18T14:47:27.800083Z"
    }
   },
   "outputs": [
    {
     "name": "stdout",
     "output_type": "stream",
     "text": [
      "my first file\n",
      "This file\n",
      "\n",
      "contains three lines\n"
     ]
    }
   ],
   "source": [
    "f = open(\"test_1.txt\",'r',encoding = 'utf-8')\n",
    "for line in f:\n",
    "    print(line, end = '')"
   ]
  },
  {
   "cell_type": "markdown",
   "metadata": {},
   "source": [
    "In this program, the lines in the file itself include a newline character **`\\n`**. So, we use the end parameter of the **`print()`** function to avoid two newlines when printing."
   ]
  },
  {
   "cell_type": "markdown",
   "metadata": {},
   "source": [
    "Alternatively, we can use the **`readline()`** method to read individual lines of a file. This method reads a file till the newline, including the newline character."
   ]
  },
  {
   "cell_type": "code",
   "execution_count": 19,
   "metadata": {
    "ExecuteTime": {
     "end_time": "2021-06-18T14:47:28.914817Z",
     "start_time": "2021-06-18T14:47:28.903103Z"
    }
   },
   "outputs": [
    {
     "data": {
      "text/plain": [
       "'my first file\\n'"
      ]
     },
     "execution_count": 19,
     "metadata": {},
     "output_type": "execute_result"
    }
   ],
   "source": [
    "f.seek(0)  # bring file cursor to initial position\n",
    "f.readline()"
   ]
  },
  {
   "cell_type": "code",
   "execution_count": 20,
   "metadata": {
    "ExecuteTime": {
     "end_time": "2021-06-18T14:47:29.196067Z",
     "start_time": "2021-06-18T14:47:29.182398Z"
    }
   },
   "outputs": [
    {
     "data": {
      "text/plain": [
       "'This file\\n'"
      ]
     },
     "execution_count": 20,
     "metadata": {},
     "output_type": "execute_result"
    }
   ],
   "source": [
    "f.readline()"
   ]
  },
  {
   "cell_type": "code",
   "execution_count": 21,
   "metadata": {
    "ExecuteTime": {
     "end_time": "2021-06-18T14:47:29.491967Z",
     "start_time": "2021-06-18T14:47:29.481222Z"
    }
   },
   "outputs": [
    {
     "data": {
      "text/plain": [
       "'\\n'"
      ]
     },
     "execution_count": 21,
     "metadata": {},
     "output_type": "execute_result"
    }
   ],
   "source": [
    "f.readline()"
   ]
  },
  {
   "cell_type": "code",
   "execution_count": 22,
   "metadata": {
    "ExecuteTime": {
     "end_time": "2021-06-18T14:47:29.788837Z",
     "start_time": "2021-06-18T14:47:29.768329Z"
    }
   },
   "outputs": [
    {
     "data": {
      "text/plain": [
       "'contains three lines\\n'"
      ]
     },
     "execution_count": 22,
     "metadata": {},
     "output_type": "execute_result"
    }
   ],
   "source": [
    "f.readline()"
   ]
  },
  {
   "cell_type": "markdown",
   "metadata": {},
   "source": [
    "Lastly, the **`readlines()`** method returns a list of remaining lines of the entire file. All these reading methods return empty values when the end of file **(EOF)** is reached."
   ]
  },
  {
   "cell_type": "code",
   "execution_count": 23,
   "metadata": {
    "ExecuteTime": {
     "end_time": "2021-06-18T14:47:30.505138Z",
     "start_time": "2021-06-18T14:47:30.495375Z"
    },
    "scrolled": true
   },
   "outputs": [
    {
     "data": {
      "text/plain": [
       "['my first file\\n', 'This file\\n', '\\n', 'contains three lines\\n']"
      ]
     },
     "execution_count": 23,
     "metadata": {},
     "output_type": "execute_result"
    }
   ],
   "source": [
    "f.seek(0)  # bring file cursor to initial position\n",
    "f.readlines()"
   ]
  },
  {
   "cell_type": "code",
   "execution_count": 24,
   "metadata": {
    "ExecuteTime": {
     "end_time": "2021-06-18T14:47:30.754646Z",
     "start_time": "2021-06-18T14:47:30.739025Z"
    },
    "scrolled": true
   },
   "outputs": [
    {
     "name": "stdout",
     "output_type": "stream",
     "text": [
      "Welcome to Dr. Milan Parmar\n",
      "'s Python Tutorial\n"
     ]
    }
   ],
   "source": [
    "# Open a file\n",
    "data = open(\"data_1.txt\", \"r+\")\n",
    "file_data = data.read(27) # read 3.375 byte only\n",
    "full_data = data.read()   # read all byte into file from last cursor\n",
    "print(file_data)\n",
    "print(full_data)\n",
    "data.close()"
   ]
  },
  {
   "cell_type": "markdown",
   "metadata": {},
   "source": [
    "## File Positions\n",
    "\n",
    "The **`tell()`** method tells you the current position within the file; in other words, the next read or write will occur at that many bytes from the beginning of the file.\n",
    "\n",
    "The **`seek(offset[, from])`** method changes the current file position. The offset argument indicates the number of bytes to be moved. The from argument specifies the reference position from where the bytes are to be moved.\n",
    "\n",
    "If from is set to 0, the beginning of the file is used as the reference position. If it is set to 1, the current position is used as the reference position. If it is set to 2 then the end of the file would be taken as the reference position."
   ]
  },
  {
   "cell_type": "code",
   "execution_count": 25,
   "metadata": {
    "ExecuteTime": {
     "end_time": "2021-06-18T14:47:31.378180Z",
     "start_time": "2021-06-18T14:47:31.367440Z"
    }
   },
   "outputs": [
    {
     "name": "stdout",
     "output_type": "stream",
     "text": [
      "current position after reading 27 byte : 27\n",
      "Welcome to Dr. Milan Parmar\n",
      "Welcome to Dr. Milan Parmar's Python Tutorial\n",
      "position after reading file :  45\n"
     ]
    }
   ],
   "source": [
    "# Open a file\n",
    "data = open(\"data_1.txt\", \"r+\")\n",
    "file_data = data.read(27) # read 18 byte only\n",
    "print(\"current position after reading 27 byte :\",data.tell())\n",
    "data.seek(0) #here current position set to 0 (starting of file)\n",
    "full_data = data.read() #read all byte\n",
    "print(file_data)\n",
    "print(full_data)\n",
    "print(\"position after reading file : \",data.tell())\n",
    "data.close()"
   ]
  },
  {
   "cell_type": "markdown",
   "metadata": {},
   "source": [
    "## Renaming and Deleting Files\n",
    "\n",
    "Python os module provides methods that help you perform file-processing operations, such as renaming and **deleting** files.\n",
    "\n",
    "To use this module, you need to import it first and then you can call any related functions."
   ]
  },
  {
   "cell_type": "markdown",
   "metadata": {},
   "source": [
    "### `rename()` - \n",
    "\n",
    "The **`rename()`** method takes two arguments, the current filename and the new filename.\n",
    "\n",
    "**Syntax:**\n",
    "\n",
    "**`os.rename(current_file_name, new_file_name)`**"
   ]
  },
  {
   "cell_type": "code",
   "execution_count": 26,
   "metadata": {
    "ExecuteTime": {
     "end_time": "2021-06-18T14:47:32.706294Z",
     "start_time": "2021-06-18T14:47:32.694578Z"
    }
   },
   "outputs": [
    {
     "name": "stdout",
     "output_type": "stream",
     "text": [
      "file renamed\n"
     ]
    }
   ],
   "source": [
    "import os\n",
    "os.rename('data_1.txt','my_data.txt')\n",
    "print(\"file renamed\") "
   ]
  },
  {
   "cell_type": "markdown",
   "metadata": {},
   "source": [
    "<div>\n",
    "<img src=\"img/io2.png\" width=\"1000\"/>\n",
    "</div>"
   ]
  },
  {
   "cell_type": "markdown",
   "metadata": {},
   "source": [
    "### `remove()` - \n",
    "\n",
    "You can use the **`remove()`** method to delete files by supplying the name of the file to be deleted as the argument.\n",
    "\n",
    "**Syntax:**\n",
    "\n",
    "**`os.remove(file_name)`**"
   ]
  },
  {
   "cell_type": "code",
   "execution_count": 27,
   "metadata": {
    "ExecuteTime": {
     "end_time": "2021-06-18T14:47:33.763904Z",
     "start_time": "2021-06-18T14:47:33.754139Z"
    },
    "scrolled": true
   },
   "outputs": [
    {
     "name": "stdout",
     "output_type": "stream",
     "text": [
      "file deleted\n"
     ]
    }
   ],
   "source": [
    "import os\n",
    "os.remove('my_data.txt')\n",
    "print(\"file deleted\") "
   ]
  },
  {
   "cell_type": "markdown",
   "metadata": {},
   "source": [
    "## Python File Methods\n",
    "\n",
    "There are various methods available with the file object. Some of them have been used in the above examples.\n",
    "\n",
    "Here is the complete list of methods in text mode with a brief description:\n",
    "\n",
    "| Method | Description |\n",
    "|:----| :--- |\n",
    "| **`close()`** |   Closes an opened file. It has no effect if the file is already closed.   | \n",
    "| **`detach()`** |   Separates the underlying binary buffer from the **`TextIOBase`** and returns it.   | \n",
    "| **`fileno()`** |   Returns an integer number (file descriptor) of the file.   | \n",
    "| **`flush()`** |   Flushes the write buffer of the file stream.   | \n",
    "| **`isatty()`** |   Returns **`True`** if the file stream is interactive.   | \n",
    "| **`read(n)`** |   Reads at most `n` characters from the file. Reads till end of file if it is negative or `None`.   | \n",
    "| **`readable()`** |   Returns **`True`** if the file stream can be read from.   | \n",
    "| **`readline(n=-1)`** |   Reads and returns one line from the file. Reads in at most **`n`** bytes if specified.   | \n",
    "| **`readlines(n=-1)`** |   Reads and returns a list of lines from the file. Reads in at most **`n`** bytes/characters if specified.   | \n",
    "| **`seek(offset,from=SEEK_SET)`** |   Changes the file position to **`offset`** bytes, in reference to `from` (start, current, end).   | \n",
    "| **`seekable()`** |   Returns **`True`** if the file stream supports random access.   | \n",
    "| **`tell()`** |   Returns the current file location.   | \n",
    "| **`truncate(size=None)`** |   Resizes the file stream to **`size`** bytes. If **`size`** is not specified, resizes to current location..   | \n",
    "| **`writable()`** |   Returns **`True`** if the file stream can be written to.   | \n",
    "| **`write(s)`** |   Writes the string **`s`** to the file and returns the number of characters written..   | \n",
    "| **`writelines(lines)`** |   Writes a list of **`lines`** to the file..   | "
   ]
  },
  {
   "cell_type": "markdown",
   "metadata": {},
   "source": [
    "## Directories in Python\n",
    "\n",
    "All files are contained within various directories, and Python has no problem handling these too. The **os** module has several methods that help you create, remove, and change directories\n",
    "Renaming and Deleting Files"
   ]
  },
  {
   "cell_type": "markdown",
   "metadata": {},
   "source": [
    "### `mkdir()` - \n",
    "\n",
    "You can use the **`mkdir()`** method of the os module to create directories in the current directory. You need to supply an argument to this method, which contains the name of the directory to be created.\n",
    "\n",
    "**Syntax:**\n",
    "\n",
    "**`os.mkdir(\"dir_name\")`**"
   ]
  },
  {
   "cell_type": "code",
   "execution_count": 28,
   "metadata": {
    "ExecuteTime": {
     "end_time": "2021-06-18T14:47:35.571510Z",
     "start_time": "2021-06-18T14:47:35.550025Z"
    },
    "scrolled": false
   },
   "outputs": [
    {
     "name": "stdout",
     "output_type": "stream",
     "text": [
      "Directory created\n"
     ]
    }
   ],
   "source": [
    "import os\n",
    "os.mkdir('python_study')\n",
    "print(\"Directory created\") "
   ]
  },
  {
   "cell_type": "markdown",
   "metadata": {},
   "source": [
    "### `rmdir()` - \n",
    "\n",
    "The **`rmdir()`** method deletes the directory, which is passed as an argument in the method. Before removing a directory, all the contents in it should be removed"
   ]
  },
  {
   "cell_type": "code",
   "execution_count": 29,
   "metadata": {
    "ExecuteTime": {
     "end_time": "2021-06-18T14:47:36.599819Z",
     "start_time": "2021-06-18T14:47:36.590055Z"
    }
   },
   "outputs": [
    {
     "name": "stdout",
     "output_type": "stream",
     "text": [
      "Directory deleted\n"
     ]
    }
   ],
   "source": [
    "import os\n",
    "# This would remove \"C:\\Users\\Deepak\\Desktop\\xyz\" directory.\n",
    "os.rmdir(r\"C:\\Users\\Deepak\\01_Learn_Python4Data\\05_Python_Files\\python_study\")\n",
    "print(\"Directory deleted\") "
   ]
  },
  {
   "cell_type": "markdown",
   "metadata": {},
   "source": [
    "### `getcwd()` - \n",
    "\n",
    "The **`getcwd()`** method displays the current working directory."
   ]
  },
  {
   "cell_type": "code",
   "execution_count": 30,
   "metadata": {
    "ExecuteTime": {
     "end_time": "2021-06-18T14:47:37.456748Z",
     "start_time": "2021-06-18T14:47:37.447959Z"
    }
   },
   "outputs": [
    {
     "name": "stdout",
     "output_type": "stream",
     "text": [
      "C:\\Users\\Deepak\\01_Learn_Python4Data\\05_Python_Files\n"
     ]
    }
   ],
   "source": [
    "import os\n",
    "print(os.getcwd())"
   ]
  },
  {
   "cell_type": "markdown",
   "metadata": {},
   "source": [
    "### `chdir()` - \n",
    "\n",
    "You can use the **`chdir()`** method to change the current directory. The chdir() method takes an argument, which is the name of the directory that you want to make the current directory.\n",
    "\n",
    "Syntax:\n",
    "\n",
    "**`os.chdir(\"newdir\")`**\n",
    "\n",
    "**Note**: \n",
    "1. First copy the path for current working directory \n",
    "2. Windows user and MacOS users, first create an empty folder with name \"**xyz**\" on your desktop."
   ]
  },
  {
   "cell_type": "code",
   "execution_count": 31,
   "metadata": {
    "ExecuteTime": {
     "end_time": "2021-06-18T14:47:38.673535Z",
     "start_time": "2021-06-18T14:47:38.663770Z"
    }
   },
   "outputs": [
    {
     "name": "stdout",
     "output_type": "stream",
     "text": [
      "Directory changed\n"
     ]
    }
   ],
   "source": [
    "import os\n",
    "\n",
    "# Changing a directory to \"C:\\Users\\Deepak\\Desktop\\xyz\"\n",
    "os.chdir(r\"C:\\Users\\Deepak\\OneDrive\\Desktop\\xyz\") \n",
    "  \n",
    "print(\"Directory changed\") "
   ]
  },
  {
   "cell_type": "code",
   "execution_count": 32,
   "metadata": {
    "ExecuteTime": {
     "end_time": "2021-06-18T14:47:39.063179Z",
     "start_time": "2021-06-18T14:47:39.057323Z"
    }
   },
   "outputs": [
    {
     "name": "stdout",
     "output_type": "stream",
     "text": [
      "C:\\Users\\Deepak\\OneDrive\\Desktop\\xyz\n"
     ]
    }
   ],
   "source": [
    "import os\n",
    "print(os.getcwd())"
   ]
  },
  {
   "cell_type": "code",
   "execution_count": 33,
   "metadata": {
    "ExecuteTime": {
     "end_time": "2021-06-18T14:47:39.312688Z",
     "start_time": "2021-06-18T14:47:39.303901Z"
    }
   },
   "outputs": [
    {
     "name": "stdout",
     "output_type": "stream",
     "text": [
      "Directory changed\n"
     ]
    }
   ],
   "source": [
    "import os\n",
    "\n",
    "# Changing a directory back to original directory \"C:\\Users\\Deepak\\01_Learn_Python4Data\\05_Python_Files\"\n",
    "os.chdir(r\"C:\\Users\\Deepak\\01_Learn_Python4Data\\05_Python_Files\") \n",
    "  \n",
    "print(\"Directory changed\") "
   ]
  },
  {
   "cell_type": "code",
   "execution_count": 34,
   "metadata": {
    "ExecuteTime": {
     "end_time": "2021-06-18T14:47:40.109067Z",
     "start_time": "2021-06-18T14:47:40.094425Z"
    }
   },
   "outputs": [
    {
     "name": "stdout",
     "output_type": "stream",
     "text": [
      "C:\\Users\\Deepak\\01_Learn_Python4Data\\05_Python_Files\n"
     ]
    }
   ],
   "source": [
    "import os\n",
    "print(os.getcwd())"
   ]
  },
  {
   "cell_type": "markdown",
   "metadata": {},
   "source": [
    "### `listdir()` - \n",
    "\n",
    "The **`listdir()`** method displays all files and sub-directories inside a directory."
   ]
  },
  {
   "cell_type": "code",
   "execution_count": 35,
   "metadata": {
    "ExecuteTime": {
     "end_time": "2021-06-18T14:47:41.259450Z",
     "start_time": "2021-06-18T14:47:41.246757Z"
    }
   },
   "outputs": [
    {
     "data": {
      "text/plain": [
       "['.ipynb_checkpoints',\n",
       " '001_Python_File_Input_Output.ipynb',\n",
       " '002_Python_File_Directory.ipynb',\n",
       " '003_Python_File_Exception.ipynb',\n",
       " '004_Python_Exceptions_Handling.ipynb',\n",
       " '005_Python_User_defined_Exceptions.ipynb',\n",
       " 'data.txt',\n",
       " 'img',\n",
       " 'logo.png',\n",
       " 'logo1.png',\n",
       " 'test.txt',\n",
       " 'testfile',\n",
       " 'test_1.txt',\n",
       " 'test_2.txt']"
      ]
     },
     "execution_count": 35,
     "metadata": {},
     "output_type": "execute_result"
    }
   ],
   "source": [
    "os.listdir()"
   ]
  },
  {
   "cell_type": "code",
   "execution_count": 36,
   "metadata": {
    "ExecuteTime": {
     "end_time": "2021-06-18T14:47:42.149094Z",
     "start_time": "2021-06-18T14:47:42.135423Z"
    }
   },
   "outputs": [
    {
     "data": {
      "text/plain": [
       "['$Recycle.Bin',\n",
       " '$WinREAgent',\n",
       " '$WINRE_BACKUP_PARTITION.MARKER',\n",
       " 'bootTel.dat',\n",
       " 'Documents and Settings',\n",
       " 'DumpStack.log',\n",
       " 'DumpStack.log.tmp',\n",
       " 'hiberfil.sys',\n",
       " 'ImDisk',\n",
       " 'OneDriveTemp',\n",
       " 'pagefile.sys',\n",
       " 'PerfLogs',\n",
       " 'Program Files',\n",
       " 'Program Files (x86)',\n",
       " 'ProgramData',\n",
       " 'Python99',\n",
       " 'Recovery',\n",
       " 'swapfile.sys',\n",
       " 'System Volume Information',\n",
       " 'Users',\n",
       " 'Windows']"
      ]
     },
     "execution_count": 36,
     "metadata": {},
     "output_type": "execute_result"
    }
   ],
   "source": [
    "os.listdir('C:\\\\')"
   ]
  },
  {
   "cell_type": "code",
   "execution_count": null,
   "metadata": {},
   "outputs": [],
   "source": []
  }
 ],
 "metadata": {
  "hide_input": false,
  "kernelspec": {
   "display_name": "Python 3",
   "language": "python",
   "name": "python3"
  },
  "language_info": {
   "codemirror_mode": {
    "name": "ipython",
    "version": 3
   },
   "file_extension": ".py",
   "mimetype": "text/x-python",
   "name": "python",
   "nbconvert_exporter": "python",
   "pygments_lexer": "ipython3",
   "version": "3.8.8"
  },
  "toc": {
   "base_numbering": 1,
   "nav_menu": {},
   "number_sections": true,
   "sideBar": true,
   "skip_h1_title": false,
   "title_cell": "Table of Contents",
   "title_sidebar": "Contents",
   "toc_cell": false,
   "toc_position": {
    "height": "calc(100% - 180px)",
    "left": "10px",
    "top": "150px",
    "width": "204.797px"
   },
   "toc_section_display": true,
   "toc_window_display": false
  },
  "varInspector": {
   "cols": {
    "lenName": 16,
    "lenType": 16,
    "lenVar": 40
   },
   "kernels_config": {
    "python": {
     "delete_cmd_postfix": "",
     "delete_cmd_prefix": "del ",
     "library": "var_list.py",
     "varRefreshCmd": "print(var_dic_list())"
    },
    "r": {
     "delete_cmd_postfix": ") ",
     "delete_cmd_prefix": "rm(",
     "library": "var_list.r",
     "varRefreshCmd": "cat(var_dic_list()) "
    }
   },
   "types_to_exclude": [
    "module",
    "function",
    "builtin_function_or_method",
    "instance",
    "_Feature"
   ],
   "window_display": false
  }
 },
 "nbformat": 4,
 "nbformat_minor": 2
}
